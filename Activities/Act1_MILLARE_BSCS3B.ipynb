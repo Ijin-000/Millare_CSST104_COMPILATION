{
  "nbformat": 4,
  "nbformat_minor": 0,
  "metadata": {
    "colab": {
      "provenance": []
    },
    "kernelspec": {
      "name": "python3",
      "display_name": "Python 3"
    },
    "language_info": {
      "name": "python"
    }
  },
  "cells": [
    {
      "cell_type": "markdown",
      "source": [
        "#**CSST - 104 -ADVANCE MACHINE LEARNING**\n",
        "**(Activity 1: Exploratory Data Analysis of Product Data)**\n",
        "\n",
        "**MILLARE, LUCKY OWELL U.**\n",
        "\n",
        "**BSCS - IS - 3B**"
      ],
      "metadata": {
        "id": "qHnfxVwPEClD"
      }
    },
    {
      "cell_type": "markdown",
      "source": [
        "**1. IMPORTING LIBRARIES**"
      ],
      "metadata": {
        "id": "Gm7fI6NMGSaW"
      }
    },
    {
      "cell_type": "code",
      "source": [
        "import pandas as pd # Data Manipulation\n",
        "import matplotlib.pyplot as plt # Data Visualization"
      ],
      "metadata": {
        "id": "PxQ5AXh5EIWY"
      },
      "execution_count": null,
      "outputs": []
    },
    {
      "cell_type": "markdown",
      "source": [
        "**1. DATA LOADING**"
      ],
      "metadata": {
        "id": "Bl346GMVFvjZ"
      }
    },
    {
      "cell_type": "code",
      "source": [
        "data = pd.read_csv('hardwareStore.csv')"
      ],
      "metadata": {
        "id": "j-lDjPfXF7SB"
      },
      "execution_count": null,
      "outputs": []
    },
    {
      "cell_type": "markdown",
      "source": [
        "**2. INITIAL DATA ANALYSIS**"
      ],
      "metadata": {
        "id": "uENj3y6WGnPQ"
      }
    },
    {
      "cell_type": "code",
      "source": [
        "hardStore_statistic = data.describe()\n",
        "\n",
        "print(hardStore_statistic)"
      ],
      "metadata": {
        "colab": {
          "base_uri": "https://localhost:8080/"
        },
        "id": "9orwc7rhGt1e",
        "outputId": "5eba8acb-9d39-40dc-e95d-7490241fab13"
      },
      "execution_count": null,
      "outputs": [
        {
          "output_type": "stream",
          "name": "stdout",
          "text": [
            "       CATEGORY_ID   PRODUCT_ID  STANDARD_COST   LIST_PRICE    REGION_ID  \\\n",
            "count  1112.000000  1112.000000    1112.000000  1112.000000  1112.000000   \n",
            "mean      3.203237   139.579137     765.520405   950.993327     2.469424   \n",
            "std       1.637782    84.840057     794.252142   991.070482     0.499289   \n",
            "min       1.000000     2.000000      12.630000    15.550000     2.000000   \n",
            "25%       2.000000    71.750000     332.380000   435.222500     2.000000   \n",
            "50%       4.000000   133.000000     582.020000   744.980000     2.000000   \n",
            "75%       5.000000   216.000000     799.050000   999.990000     3.000000   \n",
            "max       5.000000   288.000000    7123.660000  8867.990000     3.000000   \n",
            "\n",
            "       LOCATION_ID  WAREHOUSE_ID     QUANTITY  \n",
            "count  1112.000000   1112.000000  1112.000000  \n",
            "mean     10.971223      5.548561   107.474820  \n",
            "std       4.662225      2.416821    68.008413  \n",
            "min       5.000000      1.000000     0.000000  \n",
            "25%       8.000000      4.000000    50.000000  \n",
            "50%      11.000000      6.000000    98.000000  \n",
            "75%      13.000000      8.000000   163.000000  \n",
            "max      23.000000      9.000000   353.000000  \n"
          ]
        }
      ]
    },
    {
      "cell_type": "markdown",
      "source": [
        "**3. CATEGORY ANALYSIS**"
      ],
      "metadata": {
        "id": "6GUWbWOCHGOa"
      }
    },
    {
      "cell_type": "code",
      "source": [
        "category_quantity = data.groupby('CATEGORY_NAME')['QUANTITY'].sum()\n",
        "highest_category_quantity = category_quantity.idxmax()\n",
        "\n",
        "print('Highest Category Product:', highest_category_quantity)\n",
        "\n",
        "category_quantity.plot(kind ='bar')\n",
        "plt.xlabel('CATEGORY_NAME')\n",
        "plt.ylabel('QUANTITY')\n",
        "plt.title('Quantity per Category Name')\n",
        "plt.xticks(rotation=90)\n",
        "plt.tight_layout()\n",
        "plt.show()"
      ],
      "metadata": {
        "colab": {
          "base_uri": "https://localhost:8080/",
          "height": 504
        },
        "id": "9taRuCJWHLwV",
        "outputId": "5e6e0326-5ef9-44dc-891f-d5d98d079ffc"
      },
      "execution_count": null,
      "outputs": [
        {
          "output_type": "stream",
          "name": "stdout",
          "text": [
            "Highest Category Product: Storage\n"
          ]
        },
        {
          "output_type": "display_data",
          "data": {
            "text/plain": [
              "<Figure size 640x480 with 1 Axes>"
            ],
            "image/png": "[encoded data removed]"
          },
          "metadata": {}
        }
      ]
    },
    {
      "cell_type": "markdown",
      "source": [
        "**4. COST AND PRICE ANALYSIS**"
      ],
      "metadata": {
        "id": "rHPNkAcFPe_C"
      }
    },
    {
      "cell_type": "code",
      "source": [
        "average_list = data.groupby('CATEGORY_NAME')['LIST_PRICE'].mean()\n",
        "highest_list = average_list.idxmax()\n",
        "\n",
        "average_standard = data.groupby('CATEGORY_NAME')['STANDARD_COST'].mean()\n",
        "highest_standard = average_standard.idxmax()\n",
        "\n",
        "print(average_list)\n",
        "print(highest_list)\n",
        "print(average_standard)\n",
        "print(highest_standard)"
      ],
      "metadata": {
        "id": "d_YSc75zPnjm",
        "colab": {
          "base_uri": "https://localhost:8080/"
        },
        "outputId": "45509107-46be-45c8-92ff-7e8fa13af863"
      },
      "execution_count": null,
      "outputs": [
        {
          "output_type": "stream",
          "name": "stdout",
          "text": [
            "CATEGORY_NAME\n",
            "CPU             1271.266216\n",
            "Mother Board     410.044038\n",
            "Storage          610.719856\n",
            "Video Card      1437.915566\n",
            "Name: LIST_PRICE, dtype: float64\n",
            "Video Card\n",
            "CATEGORY_NAME\n",
            "CPU             1042.900495\n",
            "Mother Board     329.552244\n",
            "Storage          490.752284\n",
            "Video Card      1145.193962\n",
            "Name: STANDARD_COST, dtype: float64\n",
            "Video Card\n"
          ]
        }
      ]
    },
    {
      "cell_type": "markdown",
      "source": [
        "**5. LOCATION ANALYSIS**"
      ],
      "metadata": {
        "id": "B5s1tlJTHUNV"
      }
    },
    {
      "cell_type": "code",
      "source": [
        "highest_city = data.groupby('CITY')['QUANTITY'].sum()\n",
        "highest_city_quantity = highest_city.idxmax()\n",
        "\n",
        "print(highest_city)\n",
        "print(highest_city_quantity)"
      ],
      "metadata": {
        "colab": {
          "base_uri": "https://localhost:8080/"
        },
        "id": "MP7LjciLHkCy",
        "outputId": "20390459-9bac-48b3-d8ea-8b4ae50baeeb"
      },
      "execution_count": null,
      "outputs": [
        {
          "output_type": "stream",
          "name": "stdout",
          "text": [
            "CITY\n",
            "Beijing                13482\n",
            "Bombay                  7357\n",
            "Monterrey               9039\n",
            "Seattle                14860\n",
            "South Brunswick         7252\n",
            "South San Francisco    28613\n",
            "Southlake               5483\n",
            "Sydney                 20457\n",
            "Toronto                12969\n",
            "Name: QUANTITY, dtype: int64\n",
            "South San Francisco\n"
          ]
        }
      ]
    },
    {
      "cell_type": "markdown",
      "source": [
        "**6. INSIGHTS AND REPORTING**"
      ],
      "metadata": {
        "id": "kTC_CmQWJUsO"
      }
    },
    {
      "cell_type": "code",
      "source": [
        "report = \"\"\"\n",
        "Analysis Report\n",
        "1. Data Loading and Initial Analysis:\n",
        "   Basic statistic of the Dataset:\n",
        "   {}\n",
        "\n",
        "2. CATEGORY ANALYSIS:\n",
        "    Quantity per Category:\n",
        "    {}\n",
        "    \"The Category with the Highest Quantity is {}\"\n",
        "\n",
        "3. Cost and Price Analysis For List:\n",
        "    Average List Price:\n",
        "    {}\n",
        "    \"The {} has the Highest Average List Price.\"\n",
        "\n",
        "    Average Standard Cost:\n",
        "    {}\n",
        "    \"The {} has the Highest Standard Cost.\"\n",
        "\n",
        "4. Location Analysis:\n",
        "    City Quantity Product:\n",
        "    {}\n",
        "   \"The {} is the City with Highest Quantity of Product.\"\n",
        "\n",
        "5. Explanations\n",
        "\n",
        "             \" In this Assessment,  I begin by importing the necessary libraries, pandas for data manipulation and matplotlib for data visualization.\n",
        "          Then, I load the dataset that we require for the analysis. Through the application of the describe() function, I provide a detailed description\n",
        "        of fundamental statistical measures of the data set.  Then, I use matplotlib to create a descriptive bar chart that displays Quantity per Category\n",
        "        Name from the dataset as well as reporting the category with the highest quantity of products.Next, I compute the average standard cost and average\n",
        "      list price per Category Name, and I get the categories that have the highest standard costs, as well as the categories that have the highest list prices.\n",
        "    Also, I measured the amount of stock per city and finding the city having the highest quantity. Finally, I put these analysis together in an Analysis Report\n",
        "                                              which is a brief and yet informative summary of this Assessment. \"\n",
        "\"\"\". format(hardStore_statistic, category_quantity, highest_category_quantity, average_list,\n",
        "           highest_list, average_standard, highest_standard, highest_city, highest_city_quantity)\n",
        "\n",
        "print(report)"
      ],
      "metadata": {
        "colab": {
          "base_uri": "https://localhost:8080/"
        },
        "id": "X1M1BmJdJbtO",
        "outputId": "12b40cbf-228f-4ea9-fb76-fcf7c4357f15"
      },
      "execution_count": null,
      "outputs": [
        {
          "output_type": "stream",
          "name": "stdout",
          "text": [
            "\n",
            "Analysis Report\n",
            "1. Data Loading and Initial Analysis:\n",
            "   Basic statistic of the Dataset:\n",
            "          CATEGORY_ID   PRODUCT_ID  STANDARD_COST   LIST_PRICE    REGION_ID  \\\n",
            "count  1112.000000  1112.000000    1112.000000  1112.000000  1112.000000   \n",
            "mean      3.203237   139.579137     765.520405   950.993327     2.469424   \n",
            "std       1.637782    84.840057     794.252142   991.070482     0.499289   \n",
            "min       1.000000     2.000000      12.630000    15.550000     2.000000   \n",
            "25%       2.000000    71.750000     332.380000   435.222500     2.000000   \n",
            "50%       4.000000   133.000000     582.020000   744.980000     2.000000   \n",
            "75%       5.000000   216.000000     799.050000   999.990000     3.000000   \n",
            "max       5.000000   288.000000    7123.660000  8867.990000     3.000000   \n",
            "\n",
            "       LOCATION_ID  WAREHOUSE_ID     QUANTITY  \n",
            "count  1112.000000   1112.000000  1112.000000  \n",
            "mean     10.971223      5.548561   107.474820  \n",
            "std       4.662225      2.416821    68.008413  \n",
            "min       5.000000      1.000000     0.000000  \n",
            "25%       8.000000      4.000000    50.000000  \n",
            "50%      11.000000      6.000000    98.000000  \n",
            "75%      13.000000      8.000000   163.000000  \n",
            "max      23.000000      9.000000   353.000000  \n",
            "\n",
            "2. CATEGORY ANALYSIS:\n",
            "    Quantity per Category:\n",
            "    CATEGORY_NAME\n",
            "CPU             19596\n",
            "Mother Board    13347\n",
            "Storage         47573\n",
            "Video Card      38996\n",
            "Name: QUANTITY, dtype: int64\n",
            "    \"The Category with the Highest Quantity is Storage\"\n",
            "\n",
            "3. Cost and Price Analysis For List:\n",
            "    Average List Price:\n",
            "    CATEGORY_NAME\n",
            "CPU             1271.266216\n",
            "Mother Board     410.044038\n",
            "Storage          610.719856\n",
            "Video Card      1437.915566\n",
            "Name: LIST_PRICE, dtype: float64\n",
            "    \"The Video Card has the Highest Average List Price.\"\n",
            "\n",
            "    Average Standard Cost:\n",
            "    CATEGORY_NAME\n",
            "CPU             1042.900495\n",
            "Mother Board     329.552244\n",
            "Storage          490.752284\n",
            "Video Card      1145.193962\n",
            "Name: STANDARD_COST, dtype: float64\n",
            "    \"The Video Card has the Highest Standard Cost.\"\n",
            "\n",
            "4. Location Analysis:\n",
            "    City Quantity Product:\n",
            "    CITY\n",
            "Beijing                13482\n",
            "Bombay                  7357\n",
            "Monterrey               9039\n",
            "Seattle                14860\n",
            "South Brunswick         7252\n",
            "South San Francisco    28613\n",
            "Southlake               5483\n",
            "Sydney                 20457\n",
            "Toronto                12969\n",
            "Name: QUANTITY, dtype: int64\n",
            "   \"The South San Francisco is the City with Highest Quantity of Product.\"\n",
            "\n",
            "5. Explanations\n",
            "\n",
            "             \" In this Assessment,  I begin by importing the necessary libraries, pandas for data manipulation and matplotlib for data visualization.\n",
            "          Then, I load the dataset that we require for the analysis. Through the application of the describe() function, I provide a detailed description \n",
            "        of fundamental statistical measures of the data set.  Then, I use matplotlib to create a descriptive bar chart that displays Quantity per Category \n",
            "        Name from the dataset as well as reporting the category with the highest quantity of products.Next, I compute the average standard cost and average \n",
            "      list price per Category Name, and I get the categories that have the highest standard costs, as well as the categories that have the highest list prices.\n",
            "    Also, I measured the amount of stock per city and finding the city having the highest quantity. Finally, I put these analysis together in an Analysis Report \n",
            "                                              which is a brief and yet informative summary of this Assessment. \"\n",
            "\n"
          ]
        }
      ]
    },
    {
      "cell_type": "code",
      "source": [],
      "metadata": {
        "id": "kbwuDvVUbxYG"
      },
      "execution_count": null,
      "outputs": []
    }
  ]
}